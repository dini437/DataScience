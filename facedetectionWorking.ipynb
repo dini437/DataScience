{
  "nbformat": 4,
  "nbformat_minor": 0,
  "metadata": {
    "colab": {
      "name": "facedetection.ipynb",
      "provenance": [],
      "include_colab_link": true
    },
    "kernelspec": {
      "name": "python3",
      "display_name": "Python 3"
    }
  },
  "cells": [
    {
      "cell_type": "markdown",
      "metadata": {
        "id": "view-in-github",
        "colab_type": "text"
      },
      "source": [
        "<a href=\"https://colab.research.google.com/github/dini437/DataScience/blob/master/facedetectionWorking.ipynb\" target=\"_parent\"><img src=\"https://colab.research.google.com/assets/colab-badge.svg\" alt=\"Open In Colab\"/></a>"
      ]
    },
    {
      "cell_type": "code",
      "metadata": {
        "id": "QxRo2xquirpB",
        "colab_type": "code",
        "colab": {}
      },
      "source": [
        "import numpy as np\n",
        "import cv2\n",
        "face_casecade = cv2.CascadeClassifier('E:/Dinesh/Viola-Jones-master/venv/Lib/site-packages/cv2/data/haarcascade_frontalface_alt2.xml')\n",
        "\n",
        "cap = cv2.VideoCapture(0)\n",
        "\n",
        "while True:\n",
        "    ret, frame = cap.read()\n",
        "    gray = cv2.cvtColor(frame, cv2.COLOR_BGR2GRAY)\n",
        "    faces = face_casecade.detectMultiScale(gray, scaleFactor=1.5, minNeighbors=5)\n",
        "    for(x, y, w, h) in faces:\n",
        "        print(x,y,w,h)\n",
        "        roi_gray = gray[y:y+h, x:x+w] #region of interest cordinate 1 (y start , y end)\n",
        "        roi_color = frame[y:y+h, x:x+w] #Cordinate 2 (x start, x end)\n",
        "\n",
        "        #recognize\n",
        "\n",
        "\n",
        "        img_item = \"my_img.png\"\n",
        "        cv2.imwrite(img_item, roi_gray) #imgwrite\n",
        "\n",
        "        color = (255,0,0)\n",
        "        stroke = 2\n",
        "        width = x + w\n",
        "        height = y + h\n",
        "        cv2.rectangle(frame, (x,y), (width, height), color, stroke)\n",
        "    cv2.imshow('frame', frame)\n",
        "\n",
        "    if cv2.waitKey(20) & 0xFF == ord('q'):\n",
        "        break\n",
        "\n",
        "cap.release()\n",
        "cv2.destroyAllWindows"
      ],
      "execution_count": 0,
      "outputs": []
    }
  ]
}